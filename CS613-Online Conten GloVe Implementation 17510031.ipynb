{
 "cells": [
  {
   "cell_type": "markdown",
   "metadata": {},
   "source": [
    "#  <center> GloVE- Theory & Quick Implementation </center>"
   ]
  },
  {
   "cell_type": "markdown",
   "metadata": {},
   "source": [
    "## INTRODUCTION\n",
    "Vector space represntation are useful for various natural language processing tasks like named entity recognition, machine translation etc.\n",
    "\n",
    "These word vectors have been shown to be semantically and syntactically regular and are emloyed in analogus comparison of words like:\n",
    "\n",
    "$$ king - man + woman ≈ queen$$\n",
    "\n",
    "$$ brought - bring + seek ≈ sought$$\n",
    "\n",
    "Something similar will be implemented towards the end of this material.\n"
   ]
  },
  {
   "cell_type": "markdown",
   "metadata": {},
   "source": [
    "## THEORY\n",
    "\n",
    "Global Vectors for Word Representation (GloVe) is a tool developed by Stanford NLP Group researchers  which learns the word vectors from a text corpus using word co-occurences. It captures the global corpus statistics to construct the model.\n",
    "\n",
    "For training the model a co-occurence matrix *$X$* is created where *$X_{ij}$* is the number of times word *$i$* co-oocured with word *$j$* in the corpus. Here *$X_i=\\sum_k X_{ik}$* , which is the total number of time any word *$k$* occured in the context of word *$i$* . We also construct Probability matrix *$P$* where *$P_{ij} = P(j|i) = X_{ij}/X_i$* , which is the probability with which word *$j$* appear in the context of word *$i$*.\n",
    "\n",
    "Since probabilities of co-occurence provide more information than just probabilitties of words, we use them to generate our vectors\n",
    "$$F(\\vec w_i,\\vec w_j,\\vec w_k)= \\frac{P_{ik}}{P_{jk}}$$ \n",
    "\n",
    "$$F((\\vec w_i, \\vec w_j)^T\\vec w_k)=\\frac {F(\\vec w_i^T,\\vec w_k)} {F(\\vec w_j^T,\\vec w_k)}$$\n",
    "where $$F(\\vec w^T_i ,\\vec w_k) = P_{ik} = \\frac {X_{ik}}{X_i}$$\n",
    "considering *$F$* as exponent we get $$w_i^T,\\vec w_k = log(P_{ik}) = log(X_{ik})-log(X_i)$$\n",
    "\n",
    "Here *$log(X_i)$* is independent of *$k$* so can be absorbed as bias *$b_i$* for word vector *$\\vec w^T_i$* and adding an additional bias *$ b_k$* for word vector *$\\vec w_k$* restores the symmetry. So we get:\n",
    "\n",
    "$$\\vec w^T_i\\vec w_k +b_i+ b_k= log(X_{ik})$$\n",
    "\n",
    "Thus intuitively we want to build word vectors that retain information about every pair of words *$i$* and *$j$* co-occur. We achieve this by minimizing the objective function *$J$*:\n",
    "$$J = \\sum_{i=1}^V \\sum_{j=1}^V f(X_{ij}) (\\vec w^T_i\\vec w_k +b_i+ b_k-logX_{ik})^2$$ \n",
    "\n",
    "Here *$f$* helps prevent common word pairs with large *$X_{ij}$* from skewing the objective function:\n",
    "$$f(X_{ij})=\\Bigg\\{_{1\\;\\;\\;\\;\\;\\;\\;\\;\\; otherwise}^{(\\frac {X_{ij}}{x_{max}})^\\alpha \\;\\;\\; if X_{ij}< x_{max}}$$\n",
    "\n",
    "This function returns 1 for extremely common words but for all other words some weight in the range *$(0,1)$* where the distribution of wiegths is decided by *$\\alpha$*."
   ]
  },
  {
   "cell_type": "markdown",
   "metadata": {},
   "source": [
    "## IMPLEMENTATION\n",
    "\n",
    "For implimentaion purposes we have used the pretained glove vectors for Wikipedia 2014 + Gigaword 5 (6B tokens, 400K vocab, uncased, 300d vectors, 822 MB download) available at https://github.com/stanfordnlp/GloVe to form our word embeddings."
   ]
  },
  {
   "cell_type": "code",
   "execution_count": 1,
   "metadata": {},
   "outputs": [],
   "source": [
    "from scipy import spatial\n",
    "import matplotlib.pyplot as plt\n",
    "import numpy as np"
   ]
  },
  {
   "cell_type": "code",
   "execution_count": 2,
   "metadata": {},
   "outputs": [],
   "source": [
    "glove_embeddings = dict()\n",
    "f = open('glove.6B.300d.txt', encoding=\"utf-8\")\n",
    "for line in f:\n",
    "    values = line.split()\n",
    "    word = values[0]\n",
    "    coefs = np.asarray(values[1:], dtype='float32')\n",
    "    glove_embeddings[word] = coefs\n",
    "f.close()"
   ]
  },
  {
   "cell_type": "code",
   "execution_count": 3,
   "metadata": {},
   "outputs": [],
   "source": [
    "walk = glove_embeddings['walk']\n",
    "walking = glove_embeddings['walking']\n",
    "swim = glove_embeddings['swim']\n",
    "swimming = glove_embeddings['swimming']\n",
    "air = glove_embeddings['air']"
   ]
  },
  {
   "cell_type": "code",
   "execution_count": 4,
   "metadata": {},
   "outputs": [
    {
     "name": "stdout",
     "output_type": "stream",
     "text": [
      "Similarity: \n",
      "0.3116604685783386\n"
     ]
    }
   ],
   "source": [
    "# simiarity between (vector(walk)-vector(walking)) and (vector(swim)-vector(swimming))\n",
    "similarity = 1 - spatial.distance.cosine(walk-walking,swim-swimming)\n",
    "print ('Similarity: ')\n",
    "print (similarity)"
   ]
  },
  {
   "cell_type": "code",
   "execution_count": 5,
   "metadata": {},
   "outputs": [
    {
     "data": {
      "image/png": "[encoded data removed]",
      "text/plain": [
       "<Figure size 432x288 with 1 Axes>"
      ]
     },
     "metadata": {
      "needs_background": "light"
     },
     "output_type": "display_data"
    }
   ],
   "source": [
    "#Graph plot using matplotlib\n",
    "fig = plt.figure()\n",
    "ax = fig.add_subplot(111)\n",
    "plt.title('Similarity based on cosine distance')\n",
    "names = [['walk','walking'],['swim','swimming'],['walk','air']]\n",
    "k=1\n",
    "plt.plot([0],[0])\n",
    "for i in names:\n",
    "    y = [k,k]\n",
    "    x = [0.5,0.5]\n",
    "    dist = spatial.distance.cosine(glove_embeddings[i[0]],glove_embeddings[i[1]])\n",
    "    dist = dist/2\n",
    "    x[0] = x[0] - dist\n",
    "    x[1] = x[1] + dist\n",
    "    myvec = np.array([x,y])\n",
    "    j=0\n",
    "    for xy in zip(x, y):    \n",
    "        ax.annotate(str(i[j]), xy=xy, textcoords='data',va='bottom')\n",
    "        j = j + 1\n",
    "    plt.plot(myvec[0,],myvec[1,])\n",
    "    j = 0\n",
    "    k = k+1\n",
    "plt.plot([0],[4])    \n",
    "plt.show()"
   ]
  },
  {
   "cell_type": "code",
   "execution_count": 6,
   "metadata": {},
   "outputs": [
    {
     "data": {
      "image/png": "[encoded data removed]",
      "text/plain": [
       "<Figure size 432x288 with 1 Axes>"
      ]
     },
     "metadata": {
      "needs_background": "light"
     },
     "output_type": "display_data"
    }
   ],
   "source": [
    "#Graph plot using matplotlib\n",
    "fig = plt.figure()\n",
    "ax = fig.add_subplot(111)\n",
    "plt.title('Similarity based on cosine distance')\n",
    "names = [['tokyo','delhi'],['india','delhi'],['japan','tokyo']]\n",
    "k=1\n",
    "plt.plot([0],[0])\n",
    "for i in names:\n",
    "    y = [k,k]\n",
    "    x = [0.5,0.5]\n",
    "    dist = spatial.distance.cosine(glove_embeddings[i[0]],glove_embeddings[i[1]])\n",
    "    dist = dist/2\n",
    "    x[0] = x[0] - dist\n",
    "    x[1] = x[1] + dist\n",
    "    myvec = np.array([x,y])\n",
    "    j=0\n",
    "    for xy in zip(x, y):    \n",
    "        ax.annotate(str(i[j]), xy=xy, textcoords='data',va='bottom')\n",
    "        j = j + 1\n",
    "    plt.plot(myvec[0,],myvec[1,])\n",
    "    j = 0\n",
    "    k = k+1\n",
    "plt.plot([0],[4])    \n",
    "plt.show()"
   ]
  },
  {
   "cell_type": "markdown",
   "metadata": {},
   "source": [
    "## References\n",
    "\n",
    "[1] https://nlp.stanford.edu/projects/glove/ <br>\n",
    "[2] Pennington, J., Socher, R., & Manning, C. (2014). Glove: Global vectors for word representation. In Proceedings of the 2014 conference on empirical methods in natural language processing (EMNLP) (pp. 1532-1543). <br>\n",
    "[3] http://www.foldl.me/2014/glove-python/ <br>"
   ]
  },
  {
   "cell_type": "code",
   "execution_count": null,
   "metadata": {},
   "outputs": [],
   "source": []
  }
 ],
 "metadata": {
  "kernelspec": {
   "display_name": "Python 3",
   "language": "python",
   "name": "python3"
  },
  "language_info": {
   "codemirror_mode": {
    "name": "ipython",
    "version": 3
   },
   "file_extension": ".py",
   "mimetype": "text/x-python",
   "name": "python",
   "nbconvert_exporter": "python",
   "pygments_lexer": "ipython3",
   "version": "3.6.4"
  }
 },
 "nbformat": 4,
 "nbformat_minor": 2
}
